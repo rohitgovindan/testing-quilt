{
 "cells": [
  {
   "cell_type": "code",
   "execution_count": 2,
   "id": "764c9687",
   "metadata": {},
   "outputs": [
    {
     "name": "stdout",
     "output_type": "stream",
     "text": [
      "Looking in indexes: https://pypi.org/simple, https://pip.repos.neuron.amazonaws.com\n",
      "Collecting quilt3\n",
      "  Downloading quilt3-5.0.0-py3-none-any.whl (78 kB)\n",
      "\u001b[2K     \u001b[90m━━━━━━━━━━━━━━━━━━━━━━━━━━━━━━━━━━━━━━━━\u001b[0m \u001b[32m78.6/78.6 KB\u001b[0m \u001b[31m17.0 MB/s\u001b[0m eta \u001b[36m0:00:00\u001b[0m\n",
      "\u001b[?25hRequirement already satisfied: jsonschema<5,>=3 in /home/ec2-user/anaconda3/envs/python3/lib/python3.8/site-packages (from quilt3) (3.2.0)\n",
      "Requirement already satisfied: requests>=2.12.4 in /home/ec2-user/anaconda3/envs/python3/lib/python3.8/site-packages (from quilt3) (2.26.0)\n",
      "Requirement already satisfied: tenacity>=5.1.1 in /home/ec2-user/anaconda3/envs/python3/lib/python3.8/site-packages (from quilt3) (8.0.1)\n",
      "Requirement already satisfied: PyYAML>=5.1 in /home/ec2-user/anaconda3/envs/python3/lib/python3.8/site-packages (from quilt3) (5.4.1)\n",
      "Requirement already satisfied: appdirs>=1.4.0 in /home/ec2-user/anaconda3/envs/python3/lib/python3.8/site-packages (from quilt3) (1.4.4)\n",
      "Collecting aws-requests-auth>=0.4.2\n",
      "  Downloading aws_requests_auth-0.4.3-py2.py3-none-any.whl (6.8 kB)\n",
      "Requirement already satisfied: boto3>=1.10.0 in /home/ec2-user/anaconda3/envs/python3/lib/python3.8/site-packages (from quilt3) (1.26.2)\n",
      "Requirement already satisfied: tqdm>=4.32 in /home/ec2-user/anaconda3/envs/python3/lib/python3.8/site-packages (from quilt3) (4.62.3)\n",
      "Collecting requests-futures==1.0.0\n",
      "  Downloading requests_futures-1.0.0-py2.py3-none-any.whl (7.4 kB)\n",
      "Collecting jsonlines==1.2.0\n",
      "  Downloading jsonlines-1.2.0-py2.py3-none-any.whl (7.6 kB)\n",
      "Requirement already satisfied: six in /home/ec2-user/anaconda3/envs/python3/lib/python3.8/site-packages (from jsonlines==1.2.0->quilt3) (1.16.0)\n",
      "Collecting botocore<1.30.0,>=1.29.2\n",
      "  Downloading botocore-1.29.8-py3-none-any.whl (9.9 MB)\n",
      "\u001b[2K     \u001b[90m━━━━━━━━━━━━━━━━━━━━━━━━━━━━━━━━━━━━━━━━\u001b[0m \u001b[32m9.9/9.9 MB\u001b[0m \u001b[31m88.3 MB/s\u001b[0m eta \u001b[36m0:00:00\u001b[0m:00:01\u001b[0m0:01\u001b[0m\n",
      "\u001b[?25hRequirement already satisfied: jmespath<2.0.0,>=0.7.1 in /home/ec2-user/anaconda3/envs/python3/lib/python3.8/site-packages (from boto3>=1.10.0->quilt3) (0.10.0)\n",
      "Requirement already satisfied: s3transfer<0.7.0,>=0.6.0 in /home/ec2-user/anaconda3/envs/python3/lib/python3.8/site-packages (from boto3>=1.10.0->quilt3) (0.6.0)\n",
      "Requirement already satisfied: setuptools in /home/ec2-user/anaconda3/envs/python3/lib/python3.8/site-packages (from jsonschema<5,>=3->quilt3) (59.4.0)\n",
      "Requirement already satisfied: attrs>=17.4.0 in /home/ec2-user/anaconda3/envs/python3/lib/python3.8/site-packages (from jsonschema<5,>=3->quilt3) (21.2.0)\n",
      "Requirement already satisfied: pyrsistent>=0.14.0 in /home/ec2-user/anaconda3/envs/python3/lib/python3.8/site-packages (from jsonschema<5,>=3->quilt3) (0.18.0)\n",
      "Requirement already satisfied: certifi>=2017.4.17 in /home/ec2-user/anaconda3/envs/python3/lib/python3.8/site-packages (from requests>=2.12.4->quilt3) (2021.10.8)\n",
      "Requirement already satisfied: idna<4,>=2.5 in /home/ec2-user/anaconda3/envs/python3/lib/python3.8/site-packages (from requests>=2.12.4->quilt3) (3.1)\n",
      "Requirement already satisfied: urllib3<1.27,>=1.21.1 in /home/ec2-user/anaconda3/envs/python3/lib/python3.8/site-packages (from requests>=2.12.4->quilt3) (1.26.8)\n",
      "Requirement already satisfied: charset-normalizer~=2.0.0 in /home/ec2-user/anaconda3/envs/python3/lib/python3.8/site-packages (from requests>=2.12.4->quilt3) (2.0.8)\n",
      "Requirement already satisfied: python-dateutil<3.0.0,>=2.1 in /home/ec2-user/anaconda3/envs/python3/lib/python3.8/site-packages (from botocore<1.30.0,>=1.29.2->boto3>=1.10.0->quilt3) (2.8.2)\n",
      "Installing collected packages: jsonlines, requests-futures, botocore, aws-requests-auth, quilt3\n",
      "  Attempting uninstall: botocore\n",
      "    Found existing installation: botocore 1.24.19\n",
      "    Uninstalling botocore-1.24.19:\n",
      "      Successfully uninstalled botocore-1.24.19\n",
      "\u001b[31mERROR: pip's dependency resolver does not currently take into account all the packages that are installed. This behaviour is the source of the following dependency conflicts.\n",
      "awscli 1.27.2 requires botocore==1.29.2, but you have botocore 1.29.8 which is incompatible.\n",
      "aiobotocore 2.0.1 requires botocore<1.22.9,>=1.22.8, but you have botocore 1.29.8 which is incompatible.\u001b[0m\u001b[31m\n",
      "\u001b[0mSuccessfully installed aws-requests-auth-0.4.3 botocore-1.29.8 jsonlines-1.2.0 quilt3-5.0.0 requests-futures-1.0.0\n",
      "\u001b[33mWARNING: You are using pip version 22.0.4; however, version 22.3.1 is available.\n",
      "You should consider upgrading via the '/home/ec2-user/anaconda3/envs/python3/bin/python -m pip install --upgrade pip' command.\u001b[0m\u001b[33m\n",
      "\u001b[0mNote: you may need to restart the kernel to use updated packages.\n"
     ]
    }
   ],
   "source": [
    "pip install quilt3"
   ]
  },
  {
   "cell_type": "code",
   "execution_count": 3,
   "id": "44f8f359",
   "metadata": {},
   "outputs": [
    {
     "name": "stdout",
     "output_type": "stream",
     "text": [
      "Looking in indexes: https://pypi.org/simple, https://pip.repos.neuron.amazonaws.com\n",
      "Collecting scikit-surprise\n",
      "  Downloading scikit-surprise-1.1.3.tar.gz (771 kB)\n",
      "\u001b[2K     \u001b[90m━━━━━━━━━━━━━━━━━━━━━━━━━━━━━━━━━━━━━━\u001b[0m \u001b[32m772.0/772.0 KB\u001b[0m \u001b[31m26.4 MB/s\u001b[0m eta \u001b[36m0:00:00\u001b[0m\n",
      "\u001b[?25h  Preparing metadata (setup.py) ... \u001b[?25ldone\n",
      "\u001b[?25hRequirement already satisfied: joblib>=1.0.0 in /home/ec2-user/anaconda3/envs/python3/lib/python3.8/site-packages (from scikit-surprise) (1.1.0)\n",
      "Requirement already satisfied: numpy>=1.17.3 in /home/ec2-user/anaconda3/envs/python3/lib/python3.8/site-packages (from scikit-surprise) (1.20.3)\n",
      "Requirement already satisfied: scipy>=1.3.2 in /home/ec2-user/anaconda3/envs/python3/lib/python3.8/site-packages (from scikit-surprise) (1.5.3)\n",
      "Building wheels for collected packages: scikit-surprise\n",
      "  Building wheel for scikit-surprise (setup.py) ... \u001b[?25ldone\n",
      "\u001b[?25h  Created wheel for scikit-surprise: filename=scikit_surprise-1.1.3-cp38-cp38-linux_x86_64.whl size=2686574 sha256=d8aa5a469066832b0a8a9a257b95aaa2e4d5d0cf9f5f1c9dbd65afb317c4d0ea\n",
      "  Stored in directory: /home/ec2-user/.cache/pip/wheels/af/db/86/2c18183a80ba05da35bf0fb7417aac5cddbd93bcb1b92fd3ea\n",
      "Successfully built scikit-surprise\n",
      "Installing collected packages: scikit-surprise\n",
      "Successfully installed scikit-surprise-1.1.3\n",
      "\u001b[33mWARNING: You are using pip version 22.0.4; however, version 22.3.1 is available.\n",
      "You should consider upgrading via the '/home/ec2-user/anaconda3/envs/python3/bin/python -m pip install --upgrade pip' command.\u001b[0m\u001b[33m\n",
      "\u001b[0mNote: you may need to restart the kernel to use updated packages.\n"
     ]
    }
   ],
   "source": [
    "pip install scikit-surprise"
   ]
  },
  {
   "cell_type": "code",
   "execution_count": 1,
   "id": "5f3bcc36",
   "metadata": {},
   "outputs": [],
   "source": [
    "import quilt3\n",
    "import pandas as pd"
   ]
  },
  {
   "cell_type": "code",
   "execution_count": 62,
   "id": "5c455a5f",
   "metadata": {},
   "outputs": [],
   "source": [
    "LOCAL_FOLDER = './movie_dataset/'\n",
    "S3_BUCKET = 'moviedataset-mlinprod'\n",
    "FILENAME = 'watched_rated_df.csv'"
   ]
  },
  {
   "cell_type": "code",
   "execution_count": 63,
   "id": "dfa712d2",
   "metadata": {},
   "outputs": [],
   "source": [
    "PKG_NAME = 'rohitgov/quilt_movie_dataset_2'"
   ]
  },
  {
   "cell_type": "code",
   "execution_count": 64,
   "id": "fd97e7a5",
   "metadata": {},
   "outputs": [
    {
     "data": {
      "text/plain": [
       "(local Package)\n",
       " └─watched_rated_df.csv"
      ]
     },
     "execution_count": 64,
     "metadata": {},
     "output_type": "execute_result"
    }
   ],
   "source": [
    "p = quilt3.Package()\n",
    "p.set(FILENAME, LOCAL_FOLDER + FILENAME)"
   ]
  },
  {
   "cell_type": "code",
   "execution_count": 13,
   "id": "b472d3a4",
   "metadata": {},
   "outputs": [
    {
     "name": "stderr",
     "output_type": "stream",
     "text": [
      "Hashing: 100%|██████████| 11.2M/11.2M [00:00<00:00, 277MB/s]\n",
      "Copying objects: 100%|██████████| 11.2M/11.2M [00:00<00:00, 15.9MB/s]\n"
     ]
    },
    {
     "name": "stdout",
     "output_type": "stream",
     "text": [
      "Package rohitgov/quilt_movie_dataset_2@d2349a4 pushed to s3://moviedataset-mlinprod\n",
      "Run `quilt3 catalog s3://moviedataset-mlinprod/` to browse.\n",
      "Successfully pushed the new package\n"
     ]
    },
    {
     "data": {
      "text/plain": [
       "(remote Package)\n",
       " └─watched_rated_df.csv"
      ]
     },
     "execution_count": 13,
     "metadata": {},
     "output_type": "execute_result"
    }
   ],
   "source": [
    "p.push(PKG_NAME, registry = 's3://moviedataset-mlinprod', force = True)"
   ]
  },
  {
   "cell_type": "markdown",
   "id": "c8d46d57",
   "metadata": {},
   "source": [
    "## Gets the package version hash compatible with the latest tag"
   ]
  },
  {
   "cell_type": "code",
   "execution_count": 38,
   "id": "b3c8f492",
   "metadata": {},
   "outputs": [],
   "source": [
    "latest_hash = p.top_hash"
   ]
  },
  {
   "cell_type": "code",
   "execution_count": 39,
   "id": "1a852dc5",
   "metadata": {},
   "outputs": [
    {
     "data": {
      "text/plain": [
       "'d2349a487eb88e5192a9b96ff37ce44ac4aa4ff071a5cef200ef0c7b86c7c59b'"
      ]
     },
     "execution_count": 39,
     "metadata": {},
     "output_type": "execute_result"
    }
   ],
   "source": [
    "latest_hash"
   ]
  },
  {
   "cell_type": "markdown",
   "id": "357fdc4a",
   "metadata": {},
   "source": [
    "## Install Package with Latest Version"
   ]
  },
  {
   "cell_type": "code",
   "execution_count": 40,
   "id": "29b5b53f",
   "metadata": {},
   "outputs": [
    {
     "name": "stderr",
     "output_type": "stream",
     "text": [
      "Downloading manifest: 100%|██████████| 354/354 [00:00<00:00, 957B/s]\n",
      "Loading manifest: 100%|██████████| 2/2 [00:00<00:00, 6.39k/s]\n",
      "Copying objects: 100%|██████████| 11.2M/11.2M [00:00<00:00, 27.5MB/s]"
     ]
    },
    {
     "name": "stdout",
     "output_type": "stream",
     "text": [
      "Successfully installed package 'rohitgov/quilt_movie_dataset_2', tophash=d2349a4 from s3://moviedataset-mlinprod\n"
     ]
    },
    {
     "name": "stderr",
     "output_type": "stream",
     "text": [
      "\n"
     ]
    }
   ],
   "source": [
    "quilt3.Package.install(PKG_NAME, registry=\"s3://moviedataset-mlinprod\", top_hash = latest_hash, dest=LOCAL_FOLDER)"
   ]
  },
  {
   "cell_type": "code",
   "execution_count": 49,
   "id": "eab29baf",
   "metadata": {},
   "outputs": [],
   "source": [
    "df = pd.read_csv('./movie_dataset/watched_rated_df.csv')"
   ]
  },
  {
   "cell_type": "code",
   "execution_count": 50,
   "id": "157f452e",
   "metadata": {},
   "outputs": [
    {
     "data": {
      "text/html": [
       "<div>\n",
       "<style scoped>\n",
       "    .dataframe tbody tr th:only-of-type {\n",
       "        vertical-align: middle;\n",
       "    }\n",
       "\n",
       "    .dataframe tbody tr th {\n",
       "        vertical-align: top;\n",
       "    }\n",
       "\n",
       "    .dataframe thead th {\n",
       "        text-align: right;\n",
       "    }\n",
       "</style>\n",
       "<table border=\"1\" class=\"dataframe\">\n",
       "  <thead>\n",
       "    <tr style=\"text-align: right;\">\n",
       "      <th></th>\n",
       "      <th>userid</th>\n",
       "      <th>movieid</th>\n",
       "      <th>date_watch</th>\n",
       "      <th>time_watch</th>\n",
       "      <th>minutes</th>\n",
       "      <th>date_rate</th>\n",
       "      <th>time_rate</th>\n",
       "      <th>rating</th>\n",
       "    </tr>\n",
       "  </thead>\n",
       "  <tbody>\n",
       "    <tr>\n",
       "      <th>0</th>\n",
       "      <td>122183</td>\n",
       "      <td>raising+arizona+1987</td>\n",
       "      <td>2022-08-11</td>\n",
       "      <td>20:23:23</td>\n",
       "      <td>92</td>\n",
       "      <td>2022-08-11</td>\n",
       "      <td>20:27:16</td>\n",
       "      <td>4</td>\n",
       "    </tr>\n",
       "    <tr>\n",
       "      <th>1</th>\n",
       "      <td>79445</td>\n",
       "      <td>the+piano+1993</td>\n",
       "      <td>2022-08-11</td>\n",
       "      <td>19:29:59</td>\n",
       "      <td>99</td>\n",
       "      <td>2022-08-11</td>\n",
       "      <td>19:54:12</td>\n",
       "      <td>3</td>\n",
       "    </tr>\n",
       "    <tr>\n",
       "      <th>2</th>\n",
       "      <td>67863</td>\n",
       "      <td>forrest+gump+1994</td>\n",
       "      <td>2022-08-11</td>\n",
       "      <td>20:39:23</td>\n",
       "      <td>96</td>\n",
       "      <td>2022-08-11</td>\n",
       "      <td>21:27:26</td>\n",
       "      <td>4</td>\n",
       "    </tr>\n",
       "    <tr>\n",
       "      <th>3</th>\n",
       "      <td>179877</td>\n",
       "      <td>101+dalmatians+1996</td>\n",
       "      <td>2022-08-11</td>\n",
       "      <td>20:02:43</td>\n",
       "      <td>99</td>\n",
       "      <td>2022-08-11</td>\n",
       "      <td>20:08:37</td>\n",
       "      <td>5</td>\n",
       "    </tr>\n",
       "    <tr>\n",
       "      <th>4</th>\n",
       "      <td>224353</td>\n",
       "      <td>the+empire+strikes+back+1980</td>\n",
       "      <td>2022-08-11</td>\n",
       "      <td>21:10:10</td>\n",
       "      <td>99</td>\n",
       "      <td>2022-08-11</td>\n",
       "      <td>21:37:01</td>\n",
       "      <td>4</td>\n",
       "    </tr>\n",
       "    <tr>\n",
       "      <th>...</th>\n",
       "      <td>...</td>\n",
       "      <td>...</td>\n",
       "      <td>...</td>\n",
       "      <td>...</td>\n",
       "      <td>...</td>\n",
       "      <td>...</td>\n",
       "      <td>...</td>\n",
       "      <td>...</td>\n",
       "    </tr>\n",
       "    <tr>\n",
       "      <th>153036</th>\n",
       "      <td>182952</td>\n",
       "      <td>unbreakable+2000</td>\n",
       "      <td>2022-09-06</td>\n",
       "      <td>15:04:43</td>\n",
       "      <td>77</td>\n",
       "      <td>2022-09-06</td>\n",
       "      <td>15:35:50</td>\n",
       "      <td>5</td>\n",
       "    </tr>\n",
       "    <tr>\n",
       "      <th>153037</th>\n",
       "      <td>40018</td>\n",
       "      <td>theres+something+about+mary+1998</td>\n",
       "      <td>2022-09-06</td>\n",
       "      <td>16:01:26</td>\n",
       "      <td>99</td>\n",
       "      <td>2022-09-06</td>\n",
       "      <td>16:23:17</td>\n",
       "      <td>4</td>\n",
       "    </tr>\n",
       "    <tr>\n",
       "      <th>153038</th>\n",
       "      <td>210126</td>\n",
       "      <td>revolutionary+road+2008</td>\n",
       "      <td>2022-09-06</td>\n",
       "      <td>16:24:51</td>\n",
       "      <td>99</td>\n",
       "      <td>2022-09-06</td>\n",
       "      <td>16:47:11</td>\n",
       "      <td>1</td>\n",
       "    </tr>\n",
       "    <tr>\n",
       "      <th>153039</th>\n",
       "      <td>39098</td>\n",
       "      <td>forrest+gump+1994</td>\n",
       "      <td>2022-09-06</td>\n",
       "      <td>17:17:39</td>\n",
       "      <td>97</td>\n",
       "      <td>2022-09-06</td>\n",
       "      <td>18:04:33</td>\n",
       "      <td>5</td>\n",
       "    </tr>\n",
       "    <tr>\n",
       "      <th>153040</th>\n",
       "      <td>8828</td>\n",
       "      <td>42+up+1998</td>\n",
       "      <td>2022-09-06</td>\n",
       "      <td>18:56:56</td>\n",
       "      <td>99</td>\n",
       "      <td>2022-09-06</td>\n",
       "      <td>19:39:24</td>\n",
       "      <td>4</td>\n",
       "    </tr>\n",
       "  </tbody>\n",
       "</table>\n",
       "<p>153041 rows × 8 columns</p>\n",
       "</div>"
      ],
      "text/plain": [
       "        userid                           movieid  date_watch time_watch  \\\n",
       "0       122183              raising+arizona+1987  2022-08-11   20:23:23   \n",
       "1        79445                    the+piano+1993  2022-08-11   19:29:59   \n",
       "2        67863                 forrest+gump+1994  2022-08-11   20:39:23   \n",
       "3       179877               101+dalmatians+1996  2022-08-11   20:02:43   \n",
       "4       224353      the+empire+strikes+back+1980  2022-08-11   21:10:10   \n",
       "...        ...                               ...         ...        ...   \n",
       "153036  182952                  unbreakable+2000  2022-09-06   15:04:43   \n",
       "153037   40018  theres+something+about+mary+1998  2022-09-06   16:01:26   \n",
       "153038  210126           revolutionary+road+2008  2022-09-06   16:24:51   \n",
       "153039   39098                 forrest+gump+1994  2022-09-06   17:17:39   \n",
       "153040    8828                        42+up+1998  2022-09-06   18:56:56   \n",
       "\n",
       "        minutes   date_rate time_rate  rating  \n",
       "0            92  2022-08-11  20:27:16       4  \n",
       "1            99  2022-08-11  19:54:12       3  \n",
       "2            96  2022-08-11  21:27:26       4  \n",
       "3            99  2022-08-11  20:08:37       5  \n",
       "4            99  2022-08-11  21:37:01       4  \n",
       "...         ...         ...       ...     ...  \n",
       "153036       77  2022-09-06  15:35:50       5  \n",
       "153037       99  2022-09-06  16:23:17       4  \n",
       "153038       99  2022-09-06  16:47:11       1  \n",
       "153039       97  2022-09-06  18:04:33       5  \n",
       "153040       99  2022-09-06  19:39:24       4  \n",
       "\n",
       "[153041 rows x 8 columns]"
      ]
     },
     "execution_count": 50,
     "metadata": {},
     "output_type": "execute_result"
    }
   ],
   "source": [
    "df"
   ]
  },
  {
   "cell_type": "markdown",
   "id": "45726056",
   "metadata": {},
   "source": [
    "## Manipulate and Re-upload Data"
   ]
  },
  {
   "cell_type": "code",
   "execution_count": 51,
   "id": "761b008a",
   "metadata": {},
   "outputs": [],
   "source": [
    "df = pd.read_csv('./movie_dataset/watched_rated_df.csv')"
   ]
  },
  {
   "cell_type": "code",
   "execution_count": 52,
   "id": "2e3d9ad5",
   "metadata": {},
   "outputs": [],
   "source": [
    "df.loc[len(df.index)] = ['122183', 'raising+arizona+1987', '2022-08-11','time_watch',92,'2022-08-11','time_rate',4] "
   ]
  },
  {
   "cell_type": "code",
   "execution_count": 53,
   "id": "06bb2ec6",
   "metadata": {},
   "outputs": [
    {
     "data": {
      "text/html": [
       "<div>\n",
       "<style scoped>\n",
       "    .dataframe tbody tr th:only-of-type {\n",
       "        vertical-align: middle;\n",
       "    }\n",
       "\n",
       "    .dataframe tbody tr th {\n",
       "        vertical-align: top;\n",
       "    }\n",
       "\n",
       "    .dataframe thead th {\n",
       "        text-align: right;\n",
       "    }\n",
       "</style>\n",
       "<table border=\"1\" class=\"dataframe\">\n",
       "  <thead>\n",
       "    <tr style=\"text-align: right;\">\n",
       "      <th></th>\n",
       "      <th>userid</th>\n",
       "      <th>movieid</th>\n",
       "      <th>date_watch</th>\n",
       "      <th>time_watch</th>\n",
       "      <th>minutes</th>\n",
       "      <th>date_rate</th>\n",
       "      <th>time_rate</th>\n",
       "      <th>rating</th>\n",
       "    </tr>\n",
       "  </thead>\n",
       "  <tbody>\n",
       "    <tr>\n",
       "      <th>0</th>\n",
       "      <td>122183</td>\n",
       "      <td>raising+arizona+1987</td>\n",
       "      <td>2022-08-11</td>\n",
       "      <td>20:23:23</td>\n",
       "      <td>92</td>\n",
       "      <td>2022-08-11</td>\n",
       "      <td>20:27:16</td>\n",
       "      <td>4</td>\n",
       "    </tr>\n",
       "    <tr>\n",
       "      <th>1</th>\n",
       "      <td>79445</td>\n",
       "      <td>the+piano+1993</td>\n",
       "      <td>2022-08-11</td>\n",
       "      <td>19:29:59</td>\n",
       "      <td>99</td>\n",
       "      <td>2022-08-11</td>\n",
       "      <td>19:54:12</td>\n",
       "      <td>3</td>\n",
       "    </tr>\n",
       "    <tr>\n",
       "      <th>2</th>\n",
       "      <td>67863</td>\n",
       "      <td>forrest+gump+1994</td>\n",
       "      <td>2022-08-11</td>\n",
       "      <td>20:39:23</td>\n",
       "      <td>96</td>\n",
       "      <td>2022-08-11</td>\n",
       "      <td>21:27:26</td>\n",
       "      <td>4</td>\n",
       "    </tr>\n",
       "    <tr>\n",
       "      <th>3</th>\n",
       "      <td>179877</td>\n",
       "      <td>101+dalmatians+1996</td>\n",
       "      <td>2022-08-11</td>\n",
       "      <td>20:02:43</td>\n",
       "      <td>99</td>\n",
       "      <td>2022-08-11</td>\n",
       "      <td>20:08:37</td>\n",
       "      <td>5</td>\n",
       "    </tr>\n",
       "    <tr>\n",
       "      <th>4</th>\n",
       "      <td>224353</td>\n",
       "      <td>the+empire+strikes+back+1980</td>\n",
       "      <td>2022-08-11</td>\n",
       "      <td>21:10:10</td>\n",
       "      <td>99</td>\n",
       "      <td>2022-08-11</td>\n",
       "      <td>21:37:01</td>\n",
       "      <td>4</td>\n",
       "    </tr>\n",
       "    <tr>\n",
       "      <th>...</th>\n",
       "      <td>...</td>\n",
       "      <td>...</td>\n",
       "      <td>...</td>\n",
       "      <td>...</td>\n",
       "      <td>...</td>\n",
       "      <td>...</td>\n",
       "      <td>...</td>\n",
       "      <td>...</td>\n",
       "    </tr>\n",
       "    <tr>\n",
       "      <th>153037</th>\n",
       "      <td>40018</td>\n",
       "      <td>theres+something+about+mary+1998</td>\n",
       "      <td>2022-09-06</td>\n",
       "      <td>16:01:26</td>\n",
       "      <td>99</td>\n",
       "      <td>2022-09-06</td>\n",
       "      <td>16:23:17</td>\n",
       "      <td>4</td>\n",
       "    </tr>\n",
       "    <tr>\n",
       "      <th>153038</th>\n",
       "      <td>210126</td>\n",
       "      <td>revolutionary+road+2008</td>\n",
       "      <td>2022-09-06</td>\n",
       "      <td>16:24:51</td>\n",
       "      <td>99</td>\n",
       "      <td>2022-09-06</td>\n",
       "      <td>16:47:11</td>\n",
       "      <td>1</td>\n",
       "    </tr>\n",
       "    <tr>\n",
       "      <th>153039</th>\n",
       "      <td>39098</td>\n",
       "      <td>forrest+gump+1994</td>\n",
       "      <td>2022-09-06</td>\n",
       "      <td>17:17:39</td>\n",
       "      <td>97</td>\n",
       "      <td>2022-09-06</td>\n",
       "      <td>18:04:33</td>\n",
       "      <td>5</td>\n",
       "    </tr>\n",
       "    <tr>\n",
       "      <th>153040</th>\n",
       "      <td>8828</td>\n",
       "      <td>42+up+1998</td>\n",
       "      <td>2022-09-06</td>\n",
       "      <td>18:56:56</td>\n",
       "      <td>99</td>\n",
       "      <td>2022-09-06</td>\n",
       "      <td>19:39:24</td>\n",
       "      <td>4</td>\n",
       "    </tr>\n",
       "    <tr>\n",
       "      <th>153041</th>\n",
       "      <td>122183</td>\n",
       "      <td>raising+arizona+1987</td>\n",
       "      <td>2022-08-11</td>\n",
       "      <td>time_watch</td>\n",
       "      <td>92</td>\n",
       "      <td>2022-08-11</td>\n",
       "      <td>time_rate</td>\n",
       "      <td>4</td>\n",
       "    </tr>\n",
       "  </tbody>\n",
       "</table>\n",
       "<p>153042 rows × 8 columns</p>\n",
       "</div>"
      ],
      "text/plain": [
       "        userid                           movieid  date_watch  time_watch  \\\n",
       "0       122183              raising+arizona+1987  2022-08-11    20:23:23   \n",
       "1        79445                    the+piano+1993  2022-08-11    19:29:59   \n",
       "2        67863                 forrest+gump+1994  2022-08-11    20:39:23   \n",
       "3       179877               101+dalmatians+1996  2022-08-11    20:02:43   \n",
       "4       224353      the+empire+strikes+back+1980  2022-08-11    21:10:10   \n",
       "...        ...                               ...         ...         ...   \n",
       "153037   40018  theres+something+about+mary+1998  2022-09-06    16:01:26   \n",
       "153038  210126           revolutionary+road+2008  2022-09-06    16:24:51   \n",
       "153039   39098                 forrest+gump+1994  2022-09-06    17:17:39   \n",
       "153040    8828                        42+up+1998  2022-09-06    18:56:56   \n",
       "153041  122183              raising+arizona+1987  2022-08-11  time_watch   \n",
       "\n",
       "        minutes   date_rate  time_rate  rating  \n",
       "0            92  2022-08-11   20:27:16       4  \n",
       "1            99  2022-08-11   19:54:12       3  \n",
       "2            96  2022-08-11   21:27:26       4  \n",
       "3            99  2022-08-11   20:08:37       5  \n",
       "4            99  2022-08-11   21:37:01       4  \n",
       "...         ...         ...        ...     ...  \n",
       "153037       99  2022-09-06   16:23:17       4  \n",
       "153038       99  2022-09-06   16:47:11       1  \n",
       "153039       97  2022-09-06   18:04:33       5  \n",
       "153040       99  2022-09-06   19:39:24       4  \n",
       "153041       92  2022-08-11  time_rate       4  \n",
       "\n",
       "[153042 rows x 8 columns]"
      ]
     },
     "execution_count": 53,
     "metadata": {},
     "output_type": "execute_result"
    }
   ],
   "source": [
    "df"
   ]
  },
  {
   "cell_type": "code",
   "execution_count": 58,
   "id": "1dc78c50",
   "metadata": {},
   "outputs": [],
   "source": [
    "df.to_csv('watched_rated_df.csv')"
   ]
  },
  {
   "cell_type": "code",
   "execution_count": 59,
   "id": "afaffc80",
   "metadata": {},
   "outputs": [
    {
     "data": {
      "text/plain": [
       "(local Package)\n",
       " └─watched_rated_df.csv"
      ]
     },
     "execution_count": 59,
     "metadata": {},
     "output_type": "execute_result"
    }
   ],
   "source": [
    "p.set(FILENAME, LOCAL_FOLDER + FILENAME)"
   ]
  },
  {
   "cell_type": "code",
   "execution_count": 60,
   "id": "c76a0aec",
   "metadata": {},
   "outputs": [
    {
     "name": "stderr",
     "output_type": "stream",
     "text": [
      "Hashing: 100%|██████████| 11.2M/11.2M [00:00<00:00, 184MB/s]\n",
      "Copying objects: 100%|██████████| 11.2M/11.2M [00:00<00:00, 41.0MB/s]\n"
     ]
    },
    {
     "name": "stdout",
     "output_type": "stream",
     "text": [
      "Package rohitgov/quilt_movie_dataset_2@d2349a4 pushed to s3://moviedataset-mlinprod\n",
      "Run `quilt3 catalog s3://moviedataset-mlinprod/` to browse.\n",
      "Successfully pushed the new package\n"
     ]
    },
    {
     "data": {
      "text/plain": [
       "(remote Package)\n",
       " └─watched_rated_df.csv"
      ]
     },
     "execution_count": 60,
     "metadata": {},
     "output_type": "execute_result"
    }
   ],
   "source": [
    "p.push(PKG_NAME, registry = 's3://moviedataset-mlinprod', force = True)"
   ]
  },
  {
   "cell_type": "markdown",
   "id": "1cadd15f",
   "metadata": {},
   "source": [
    "## Model Binary Versioning Demonstration"
   ]
  },
  {
   "cell_type": "code",
   "execution_count": 61,
   "id": "d16a4c66",
   "metadata": {},
   "outputs": [],
   "source": [
    "import numpy as np\n",
    "import pandas as pd\n",
    "from surprise import Reader\n",
    "from surprise import KNNWithMeans\n",
    "from surprise import Dataset\n",
    "import pickle\n",
    "from surprise.model_selection import cross_validate\n",
    "from surprise import accuracy, Dataset, SVD\n",
    "from sklearn.model_selection import train_test_split\n",
    "from surprise.model_selection import GridSearchCV\n",
    "from surprise import SVD\n",
    "import pickle\n",
    "\n",
    "def process_data():\n",
    "    movie_df_csv = pd.read_csv('watched_rated_df.csv')\n",
    "    df_sub = movie_df_csv[['userid','movieid','rating']]  \n",
    "    train, test = train_test_split(df_sub, test_size=0.2)\n",
    "    print(\"Done with train test split\")\n",
    "    return train,test\n",
    "\n",
    "def load(train,test):\n",
    "    reader = Reader(rating_scale=(1, 5))  \n",
    "    data_train = Dataset.load_from_df(train[['userid','movieid','rating']], reader)\n",
    "    trainingSet = data_train.build_full_trainset()\n",
    "    print(\"Done Processing\")\n",
    "    return trainingSet, data_train, test\n",
    "\n",
    "def modelling(trainingSet, data_train, test):\n",
    "   param_grid = {\n",
    "    \"n_epochs\": [5, 10],\n",
    "    \"lr_all\": [0.002, 0.005],\n",
    "    \"reg_all\": [0.4, 0.6]\n",
    "    }\n",
    "\n",
    "    # Get the best params using GridSearchCV\n",
    "   gs = GridSearchCV(SVD, param_grid, measures=[\"rmse\"], cv=4)\n",
    "   gs.fit(data_train)\n",
    "   best_params = gs.best_params[\"rmse\"]\n",
    "   print(gs.best_score[\"rmse\"])\n",
    "   print(gs.best_params[\"rmse\"])\n",
    "    \n",
    "   # Extract and train model with best params\n",
    "   svd_algo = SVD(n_epochs=best_params['n_epochs'],\n",
    "                   lr_all=best_params['lr_all'],\n",
    "                   reg_all=best_params['reg_all'])\n",
    "   svd_algo.fit(trainingSet)\n",
    "\n",
    "   predictions = []\n",
    "   actuals = []\n",
    "   rmse_val = []\n",
    "   for col, row in test.iterrows():\n",
    "       predictions.append(svd_algo.predict(row.userid, row.movieid).est)\n",
    "       actuals.append(row.rating)\n",
    "   rmse_val = rmse(np.array(predictions), np.array(actuals))\n",
    "   print(\"Test RMSE for SVD : \" + str(rmse_val))\n",
    "   print(\"Done Modelling\")\n",
    "   return svd_algo\n",
    "\n",
    "def model_to_binary(svd_model):\n",
    "    filename = 'SVD_14k'\n",
    "    outfile = open(filename,'wb')\n",
    "    pickle.dump(svd_model,outfile)\n",
    "    outfile.close()      \n",
    "    print(\"Done Converting to Binary\")\n",
    "\n",
    "    #this function returns the root mean squared error between two arrays\n",
    "def rmse(predictions, targets):\n",
    "    return np.sqrt(((predictions - targets) ** 2).mean())\n",
    "\n",
    "    "
   ]
  },
  {
   "cell_type": "code",
   "execution_count": 31,
   "id": "93436cf8",
   "metadata": {},
   "outputs": [
    {
     "name": "stdout",
     "output_type": "stream",
     "text": [
      "Done with train test split\n",
      "Done Processing\n",
      "0.9657038646102301\n",
      "{'n_epochs': 10, 'lr_all': 0.005, 'reg_all': 0.4}\n",
      "Test RMSE for SVD : 0.955284575705873\n",
      "Done Modelling\n",
      "Done Converting to Binary\n"
     ]
    }
   ],
   "source": [
    "train,test=process_data()\n",
    "trainingSet, data_train, test = load(train,test)\n",
    "svd_model = modelling(trainingSet, data_train, test)\n",
    "model_to_binary(svd_model)"
   ]
  },
  {
   "cell_type": "markdown",
   "id": "ffb4d65a",
   "metadata": {},
   "source": [
    "## Creating Package Out of Modelling Binary and Pushing to Quilt Registry"
   ]
  },
  {
   "cell_type": "code",
   "execution_count": 32,
   "id": "26441f74",
   "metadata": {},
   "outputs": [],
   "source": [
    "FILENAME = 'SVD_14k'"
   ]
  },
  {
   "cell_type": "code",
   "execution_count": 33,
   "id": "50aa7381",
   "metadata": {},
   "outputs": [
    {
     "data": {
      "text/plain": [
       "(local Package)\n",
       " └─SVD_14k"
      ]
     },
     "execution_count": 33,
     "metadata": {},
     "output_type": "execute_result"
    }
   ],
   "source": [
    "p2 = quilt3.Package()\n",
    "p2.set(FILENAME, FILENAME)"
   ]
  },
  {
   "cell_type": "code",
   "execution_count": 34,
   "id": "1981bfc8",
   "metadata": {},
   "outputs": [
    {
     "name": "stderr",
     "output_type": "stream",
     "text": [
      "Hashing: 100%|██████████| 19.6M/19.6M [00:00<00:00, 361MB/s]\n",
      "Copying objects: 100%|██████████| 19.6M/19.6M [00:00<00:00, 24.4MB/s]\n"
     ]
    },
    {
     "name": "stdout",
     "output_type": "stream",
     "text": [
      "Package rohitgov/quilt_movie_dataset_2@f67e0e6 pushed to s3://moviedataset-mlinprod\n",
      "Run `quilt3 catalog s3://moviedataset-mlinprod/` to browse.\n",
      "Successfully pushed the new package\n"
     ]
    },
    {
     "data": {
      "text/plain": [
       "(remote Package)\n",
       " └─SVD_14k"
      ]
     },
     "execution_count": 34,
     "metadata": {},
     "output_type": "execute_result"
    }
   ],
   "source": [
    "p2.push(PKG_NAME, registry = 's3://moviedataset-mlinprod', force = True)"
   ]
  },
  {
   "cell_type": "code",
   "execution_count": 35,
   "id": "c9ba46f1",
   "metadata": {},
   "outputs": [
    {
     "name": "stderr",
     "output_type": "stream",
     "text": [
      "Downloading manifest: 100%|██████████| 328/328 [00:00<00:00, 989B/s]\n",
      "Loading manifest: 100%|██████████| 2/2 [00:00<00:00, 5.73k/s]\n",
      "Copying objects: 100%|██████████| 19.6M/19.6M [00:00<00:00, 77.9MB/s]"
     ]
    },
    {
     "name": "stdout",
     "output_type": "stream",
     "text": [
      "Successfully installed package 'rohitgov/quilt_movie_dataset_2', tophash=f67e0e6 from s3://moviedataset-mlinprod\n"
     ]
    },
    {
     "name": "stderr",
     "output_type": "stream",
     "text": [
      "\n"
     ]
    }
   ],
   "source": [
    "quilt3.Package.install(PKG_NAME, registry=\"s3://moviedataset-mlinprod\", top_hash = p2.top_hash, dest='.')"
   ]
  },
  {
   "cell_type": "markdown",
   "id": "e55ea561",
   "metadata": {},
   "source": [
    "## Loading Model and Predicting Rating for User/Movie Combination"
   ]
  },
  {
   "cell_type": "code",
   "execution_count": 36,
   "id": "8a34933c",
   "metadata": {},
   "outputs": [],
   "source": [
    "pickled_model = pickle.load(open('SVD_14k', 'rb'))"
   ]
  },
  {
   "cell_type": "code",
   "execution_count": 37,
   "id": "0c3cc0f9",
   "metadata": {},
   "outputs": [
    {
     "data": {
      "text/plain": [
       "3.763096733590823"
      ]
     },
     "execution_count": 37,
     "metadata": {},
     "output_type": "execute_result"
    }
   ],
   "source": [
    "pickled_model.predict('122183','raising+arizona+1987').est"
   ]
  }
 ],
 "metadata": {
  "kernelspec": {
   "display_name": "conda_python3",
   "language": "python",
   "name": "conda_python3"
  },
  "language_info": {
   "codemirror_mode": {
    "name": "ipython",
    "version": 3
   },
   "file_extension": ".py",
   "mimetype": "text/x-python",
   "name": "python",
   "nbconvert_exporter": "python",
   "pygments_lexer": "ipython3",
   "version": "3.8.12"
  }
 },
 "nbformat": 4,
 "nbformat_minor": 5
}
